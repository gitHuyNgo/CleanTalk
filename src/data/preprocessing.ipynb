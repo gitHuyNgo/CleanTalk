{
 "cells": [
  {
   "cell_type": "markdown",
   "id": "d02d1c45",
   "metadata": {},
   "source": [
    "# Importing Tools"
   ]
  },
  {
   "cell_type": "code",
   "execution_count": 1,
   "id": "f3206a10",
   "metadata": {},
   "outputs": [],
   "source": [
    "import pandas as pd\n",
    "import re\n",
    "import unicodedata\n",
    "import os\n",
    "os.chdir('..')"
   ]
  },
  {
   "cell_type": "markdown",
   "id": "ead265be",
   "metadata": {},
   "source": [
    "# Functions"
   ]
  },
  {
   "cell_type": "code",
   "execution_count": null,
   "id": "3a32d402",
   "metadata": {},
   "outputs": [],
   "source": [
    "def apply_regex(corpus):\n",
    "    def normalize_apostrophes(text):\n",
    "        text = unicodedata.normalize(\"NFC\", text)\n",
    "        apostrophes = [\"’\", \"‘\", \"‛\", \"`\", \"´\", \"ʹ\", \"ʽ\", \"ʻ\", \"ʾ\", \"ʿ\", \"ˈ\", \"ˊ\", \"ˋ\", \"˴\"]\n",
    "        for ap in apostrophes:\n",
    "            text = text.replace(ap, \"'\")\n",
    "        return text\n",
    "\n",
    "    corpus = corpus.apply(normalize_apostrophes)\n",
    "    corpus = corpus.apply(lambda x: re.sub(r\"\\S*\\d\\S*\", \" \", x))\n",
    "    corpus = corpus.apply(lambda x: re.sub(r\"\\S*@\\S*\\s?\", \" \", x))\n",
    "    corpus = corpus.apply(lambda x: re.sub(r\"\\S*#\\S*\\s?\", \" \", x))\n",
    "    corpus = corpus.apply(lambda x: re.sub(r\"http\\S+\", \" \", x))\n",
    "    corpus = corpus.apply(lambda x: re.sub(r\"[^a-zA-Z0-9' ]\", \" \", x))\n",
    "    corpus = corpus.apply(lambda x: x.replace(u'\\ufffd', '').strip())\n",
    "    corpus = corpus.apply(lambda x: re.sub(r\"\\s+\", \" \", x).strip())\n",
    "    corpus = corpus.apply(lambda x: x.lower())\n",
    "\n",
    "    return corpus"
   ]
  },
  {
   "cell_type": "markdown",
   "id": "8f070176",
   "metadata": {},
   "source": [
    "# Usage"
   ]
  },
  {
   "cell_type": "code",
   "execution_count": 5,
   "id": "df7ce129",
   "metadata": {},
   "outputs": [],
   "source": [
    "data = pd.read_csv(\"../data/raw/train.csv\")\n",
    "\n",
    "name = \"comment_text\"\n",
    "data[name] = apply_regex(data[name])\n",
    "\n",
    "data.to_csv('../data/processed/train.csv', index=False)"
   ]
  }
 ],
 "metadata": {
  "kernelspec": {
   "display_name": "cleantalkv2",
   "language": "python",
   "name": "python3"
  },
  "language_info": {
   "codemirror_mode": {
    "name": "ipython",
    "version": 3
   },
   "file_extension": ".py",
   "mimetype": "text/x-python",
   "name": "python",
   "nbconvert_exporter": "python",
   "pygments_lexer": "ipython3",
   "version": "3.11.13"
  }
 },
 "nbformat": 4,
 "nbformat_minor": 5
}
